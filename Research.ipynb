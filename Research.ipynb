{
 "cells": [
  {
   "cell_type": "code",
   "execution_count": 1,
   "metadata": {},
   "outputs": [],
   "source": [
    "import pandas as pd"
   ]
  },
  {
   "cell_type": "code",
   "execution_count": 2,
   "metadata": {},
   "outputs": [],
   "source": [
    "gnidata = pd.read_csv('GNI.csv', encoding='latin-1')\n",
    "prisondata = pd.read_csv('prison_population.csv', encoding='latin-1')\n",
    "educationdata=pd.read_csv('mean_years_of_schooling.csv', encoding='latin-1')\n",
    "lifedata=pd.read_csv('life_expectancy_index.csv', encoding='latin-1')"
   ]
  },
  {
   "cell_type": "code",
   "execution_count": 3,
   "metadata": {},
   "outputs": [],
   "source": [
    "cleangni = gnidata[['Country', '2015']].copy()\n",
    "cleangni.columns=['Country','GNI Per Capita']\n",
    "cleanprison = prisondata[['Country','2004-2015']].copy()\n",
    "cleanprison.columns=['Country','Prison Population']\n",
    "cleaneducation = educationdata[['Country','2015']].copy()\n",
    "cleaneducation.columns=['Country','Mean Years of Schooling']\n",
    "cleanlife = lifedata[['Country',\"2015\"]].copy()\n",
    "cleanlife.columns=['Country','Life Expectancy']\n"
   ]
  },
  {
   "cell_type": "code",
   "execution_count": 4,
   "metadata": {},
   "outputs": [
    {
     "data": {
      "text/html": [
       "<div>\n",
       "<style scoped>\n",
       "    .dataframe tbody tr th:only-of-type {\n",
       "        vertical-align: middle;\n",
       "    }\n",
       "\n",
       "    .dataframe tbody tr th {\n",
       "        vertical-align: top;\n",
       "    }\n",
       "\n",
       "    .dataframe thead th {\n",
       "        text-align: right;\n",
       "    }\n",
       "</style>\n",
       "<table border=\"1\" class=\"dataframe\">\n",
       "  <thead>\n",
       "    <tr style=\"text-align: right;\">\n",
       "      <th></th>\n",
       "      <th>Country</th>\n",
       "      <th>GNI Per Capita</th>\n",
       "      <th>Mean Years of Schooling</th>\n",
       "      <th>Life Expectancy</th>\n",
       "      <th>Prison Population</th>\n",
       "    </tr>\n",
       "  </thead>\n",
       "  <tbody>\n",
       "    <tr>\n",
       "      <th>0</th>\n",
       "      <td>Afghanistan</td>\n",
       "      <td>1871</td>\n",
       "      <td>3.5</td>\n",
       "      <td>0.626</td>\n",
       "      <td>74.0</td>\n",
       "    </tr>\n",
       "    <tr>\n",
       "      <th>1</th>\n",
       "      <td>Albania</td>\n",
       "      <td>10252</td>\n",
       "      <td>9.6</td>\n",
       "      <td>0.892</td>\n",
       "      <td>189.0</td>\n",
       "    </tr>\n",
       "    <tr>\n",
       "      <th>2</th>\n",
       "      <td>Algeria</td>\n",
       "      <td>13533</td>\n",
       "      <td>7.8</td>\n",
       "      <td>0.847</td>\n",
       "      <td>162.0</td>\n",
       "    </tr>\n",
       "    <tr>\n",
       "      <th>3</th>\n",
       "      <td>Andorra</td>\n",
       "      <td>47979</td>\n",
       "      <td>10.3</td>\n",
       "      <td>0.946</td>\n",
       "      <td>72.0</td>\n",
       "    </tr>\n",
       "    <tr>\n",
       "      <th>4</th>\n",
       "      <td>Angola</td>\n",
       "      <td>6291</td>\n",
       "      <td>5.0</td>\n",
       "      <td>0.503</td>\n",
       "      <td>106.0</td>\n",
       "    </tr>\n",
       "  </tbody>\n",
       "</table>\n",
       "</div>"
      ],
      "text/plain": [
       "        Country  GNI Per Capita  Mean Years of Schooling  Life Expectancy  \\\n",
       "0   Afghanistan            1871                      3.5            0.626   \n",
       "1       Albania           10252                      9.6            0.892   \n",
       "2       Algeria           13533                      7.8            0.847   \n",
       "3       Andorra           47979                     10.3            0.946   \n",
       "4        Angola            6291                      5.0            0.503   \n",
       "\n",
       "   Prison Population  \n",
       "0               74.0  \n",
       "1              189.0  \n",
       "2              162.0  \n",
       "3               72.0  \n",
       "4              106.0  "
      ]
     },
     "execution_count": 4,
     "metadata": {},
     "output_type": "execute_result"
    }
   ],
   "source": [
    "mergeddf = pd.merge(cleangni,cleaneducation, how=\"left\")\n",
    "sndmerge = pd.merge(mergeddf,cleanlife,how='left')\n",
    "totaldata = pd.merge(sndmerge,cleanprison,how='left')\n",
    "totaldata = totaldata.dropna(how='any')   \n",
    "totaldata.reset_index(drop=True, inplace=True)\n",
    "totaldata.head()"
   ]
  },
  {
   "cell_type": "code",
   "execution_count": 5,
   "metadata": {
    "scrolled": false
   },
   "outputs": [
    {
     "data": {
      "text/html": [
       "<div>\n",
       "<style scoped>\n",
       "    .dataframe tbody tr th:only-of-type {\n",
       "        vertical-align: middle;\n",
       "    }\n",
       "\n",
       "    .dataframe tbody tr th {\n",
       "        vertical-align: top;\n",
       "    }\n",
       "\n",
       "    .dataframe thead th {\n",
       "        text-align: right;\n",
       "    }\n",
       "</style>\n",
       "<table border=\"1\" class=\"dataframe\">\n",
       "  <thead>\n",
       "    <tr style=\"text-align: right;\">\n",
       "      <th></th>\n",
       "      <th>Country</th>\n",
       "      <th>GNI Per Capita</th>\n",
       "      <th>Mean Years of Schooling</th>\n",
       "      <th>Life Expectancy</th>\n",
       "      <th>Prison Population</th>\n",
       "    </tr>\n",
       "  </thead>\n",
       "  <tbody>\n",
       "    <tr>\n",
       "      <th>0</th>\n",
       "      <td>Afghanistan</td>\n",
       "      <td>1871</td>\n",
       "      <td>3.5</td>\n",
       "      <td>0.0</td>\n",
       "      <td>0.0</td>\n",
       "    </tr>\n",
       "    <tr>\n",
       "      <th>1</th>\n",
       "      <td>Albania</td>\n",
       "      <td>10252</td>\n",
       "      <td>9.6</td>\n",
       "      <td>1.0</td>\n",
       "      <td>1.0</td>\n",
       "    </tr>\n",
       "    <tr>\n",
       "      <th>2</th>\n",
       "      <td>Algeria</td>\n",
       "      <td>13533</td>\n",
       "      <td>7.8</td>\n",
       "      <td>1.0</td>\n",
       "      <td>0.0</td>\n",
       "    </tr>\n",
       "    <tr>\n",
       "      <th>3</th>\n",
       "      <td>Andorra</td>\n",
       "      <td>47979</td>\n",
       "      <td>10.3</td>\n",
       "      <td>1.0</td>\n",
       "      <td>0.0</td>\n",
       "    </tr>\n",
       "    <tr>\n",
       "      <th>4</th>\n",
       "      <td>Angola</td>\n",
       "      <td>6291</td>\n",
       "      <td>5.0</td>\n",
       "      <td>0.0</td>\n",
       "      <td>0.0</td>\n",
       "    </tr>\n",
       "  </tbody>\n",
       "</table>\n",
       "</div>"
      ],
      "text/plain": [
       "        Country  GNI Per Capita  Mean Years of Schooling  Life Expectancy  \\\n",
       "0   Afghanistan            1871                      3.5              0.0   \n",
       "1       Albania           10252                      9.6              1.0   \n",
       "2       Algeria           13533                      7.8              1.0   \n",
       "3       Andorra           47979                     10.3              1.0   \n",
       "4        Angola            6291                      5.0              0.0   \n",
       "\n",
       "   Prison Population  \n",
       "0                0.0  \n",
       "1                1.0  \n",
       "2                0.0  \n",
       "3                0.0  \n",
       "4                0.0  "
      ]
     },
     "execution_count": 5,
     "metadata": {},
     "output_type": "execute_result"
    }
   ],
   "source": [
    "row = 0\n",
    "next = 0\n",
    "for x in totaldata.loc[:,'Life Expectancy']:\n",
    "    if x < 0.79:\n",
    "        totaldata.loc[row,'Life Expectancy'] = 0\n",
    "        row+=1\n",
    "    else:\n",
    "        totaldata.loc[row,'Life Expectancy'] = 1\n",
    "        row+=1\n",
    "\n",
    "\n",
    "for x in totaldata.loc[:,'Prison Population']:\n",
    "    if x < 166:\n",
    "        totaldata.loc[next,'Prison Population'] = 0\n",
    "        next+=1\n",
    "    else:\n",
    "        totaldata.loc[next,'Prison Population'] = 1\n",
    "        next+=1\n",
    "totaldata.head(5)"
   ]
  },
  {
   "cell_type": "code",
   "execution_count": 6,
   "metadata": {},
   "outputs": [],
   "source": [
    "totaldata.to_csv('country_data.csv') "
   ]
  },
  {
   "cell_type": "code",
   "execution_count": null,
   "metadata": {},
   "outputs": [],
   "source": []
  }
 ],
 "metadata": {
  "kernelspec": {
   "display_name": "Python [conda env:Anaconda3]",
   "language": "python",
   "name": "conda-env-Anaconda3-py"
  },
  "language_info": {
   "codemirror_mode": {
    "name": "ipython",
    "version": 3
   },
   "file_extension": ".py",
   "mimetype": "text/x-python",
   "name": "python",
   "nbconvert_exporter": "python",
   "pygments_lexer": "ipython3",
   "version": "3.6.4"
  }
 },
 "nbformat": 4,
 "nbformat_minor": 2
}
